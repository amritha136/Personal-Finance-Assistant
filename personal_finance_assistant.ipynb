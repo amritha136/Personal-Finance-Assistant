{
  "cells": [
    {
      "cell_type": "markdown",
      "id": "OLZMCb_7WNC2",
      "metadata": {
        "id": "OLZMCb_7WNC2"
      },
      "source": [
        "# Personal Finance Assistant - Project\n",
        "\n",
        "**Instructions:** Run each cell in order from top to bottom."
      ]
    },
    {
      "cell_type": "markdown",
      "id": "8xApK_yTWNC3",
      "metadata": {
        "id": "8xApK_yTWNC3"
      },
      "source": [
        "## Install Dependencies\n",
        "\n",
        "This cell installs all the required Python packages for the backend server, database, OCR, and data visualization. It also installs the Tesseract OCR engine, which is required by the `pytesseract` library."
      ]
    },
    {
      "cell_type": "code",
      "execution_count": null,
      "id": "LjFKNMxnWNC3",
      "metadata": {
        "id": "LjFKNMxnWNC3"
      },
      "outputs": [],
      "source": [
        "!pip install -q Flask Flask-SQLAlchemy Flask-JWT-Extended Werkzeug pytesseract Pillow pdf2image tabula-py pandas matplotlib pyngrok fpdf\n",
        "!sudo apt-get -qq update\n",
        "!sudo apt-get -qq install -y tesseract-ocr poppler-utils"
      ]
    },
    {
      "cell_type": "markdown",
      "id": "R2JN1Vo8WNC4",
      "metadata": {
        "id": "R2JN1Vo8WNC4"
      },
      "source": [
        "## Step 2: Create Project Files\n",
        "\n",
        "This cell uses 'magic commands' (`%%writefile`) to create the entire directory structure and all the source code for the project. After running this cell, you will see the folders (`backend`, `templates`, etc.) appear in the file explorer on the left."
      ]
    },
    {
      "cell_type": "code",
      "execution_count": null,
      "id": "deafb2df",
      "metadata": {
        "id": "deafb2df"
      },
      "outputs": [],
      "source": [
        "!mkdir -p backend templates static test_data"
      ]
    },
    {
      "cell_type": "markdown",
      "id": "dcf41317",
      "metadata": {
        "id": "dcf41317"
      },
      "source": [
        "### Creating Backend Python Files"
      ]
    },
    {
      "cell_type": "code",
      "execution_count": null,
      "id": "1744228a",
      "metadata": {
        "id": "1744228a"
      },
      "outputs": [],
      "source": [
        "%%writefile backend/database.py\n",
        "from flask_sqlalchemy import SQLAlchemy\n",
        "db = SQLAlchemy()"
      ]
    },
    {
      "cell_type": "code",
      "execution_count": null,
      "id": "59884a7b",
      "metadata": {
        "id": "59884a7b"
      },
      "outputs": [],
      "source": [
        "%%writefile backend/models.py\n",
        "from .database import db\n",
        "from datetime import datetime\n",
        "from werkzeug.security import generate_password_hash, check_password_hash\n",
        "\n",
        "class User(db.Model):\n",
        "    id = db.Column(db.Integer, primary_key=True)\n",
        "    username = db.Column(db.String(80), unique=True, nullable=False)\n",
        "    password_hash = db.Column(db.String(256))\n",
        "    transactions = db.relationship('Transaction', backref='owner', lazy=True)\n",
        "\n",
        "    def set_password(self, password):\n",
        "        self.password_hash = generate_password_hash(password)\n",
        "\n",
        "    def check_password(self, password):\n",
        "        return check_password_hash(self.password_hash, password)\n",
        "\n",
        "class Transaction(db.Model):\n",
        "    id = db.Column(db.Integer, primary_key=True)\n",
        "    description = db.Column(db.String(200), nullable=False)\n",
        "    amount = db.Column(db.Float, nullable=False)\n",
        "    type = db.Column(db.String(10), nullable=False)  # 'income' or 'expense'\n",
        "    category = db.Column(db.String(50), nullable=False, default='Uncategorized')\n",
        "    date = db.Column(db.DateTime, nullable=False, default=datetime.utcnow)\n",
        "    user_id = db.Column(db.Integer, db.ForeignKey('user.id'), nullable=False)\n",
        "\n",
        "    def to_dict(self):\n",
        "        return {\n",
        "            'id': self.id,\n",
        "            'description': self.description,\n",
        "            'amount': self.amount,\n",
        "            'type': self.type,\n",
        "            'category': self.category,\n",
        "            'date': self.date.isoformat(),\n",
        "            'user_id': self.user_id\n",
        "        }"
      ]
    },
    {
      "cell_type": "code",
      "execution_count": null,
      "id": "0aa6138d",
      "metadata": {
        "id": "0aa6138d"
      },
      "outputs": [],
      "source": [
        "%%writefile backend/ocr.py\n",
        "import pytesseract\n",
        "from PIL import Image\n",
        "import tabula\n",
        "import re\n",
        "from pdf2image import convert_from_path\n",
        "\n",
        "def extract_text_from_file(filepath):\n",
        "    try:\n",
        "        if filepath.lower().endswith('.pdf'):\n",
        "            images = convert_from_path(filepath)\n",
        "            text = \"\\n\".join([pytesseract.image_to_string(img) for img in images])\n",
        "        else:\n",
        "            image = Image.open(filepath)\n",
        "            text = pytesseract.image_to_string(image)\n",
        "        return text\n",
        "    except Exception as e:\n",
        "        print(f\"Error during text extraction: {e}\")\n",
        "        return \"\"\n",
        "\n",
        "def parse_receipt(text):\n",
        "    data = {'items': [], 'total': None}\n",
        "    lines = text.split('\\n')\n",
        "    total_found = False\n",
        "    amount_regex = re.compile(r'([\\$€£]?\\s*\\d+\\.\\d{2})')\n",
        "\n",
        "    for line in reversed(lines):\n",
        "        line_lower = line.strip().lower()\n",
        "        if ('total' in line_lower or 'amount due' in line_lower) and not total_found:\n",
        "            match = amount_regex.search(line)\n",
        "            if match:\n",
        "                try:\n",
        "                    data['total'] = float(re.sub(r'[^\\d.]', '', match.group(1)))\n",
        "                    total_found = True\n",
        "                except ValueError:\n",
        "                    continue\n",
        "    return data\n",
        "\n",
        "def extract_tables_from_pdf(pdf_path):\n",
        "    try:\n",
        "        dfs = tabula.read_pdf(pdf_path, pages='all', multiple_tables=True)\n",
        "        if not dfs:\n",
        "            return []\n",
        "        return [df.to_dict(orient='records') for df in dfs]\n",
        "    except Exception as e:\n",
        "        return {\"error\": str(e)}"
      ]
    },
    {
      "cell_type": "code",
      "execution_count": null,
      "id": "438134ae",
      "metadata": {
        "id": "438134ae"
      },
      "outputs": [],
      "source": [
        "%%writefile backend/app.py\n",
        "import os\n",
        "from flask import Flask, request, jsonify, render_template\n",
        "from datetime import datetime\n",
        "from werkzeug.utils import secure_filename\n",
        "from .database import db\n",
        "from .models import User, Transaction\n",
        "from .ocr import extract_text_from_file, parse_receipt, extract_tables_from_pdf\n",
        "from flask_jwt_extended import create_access_token, jwt_required, get_jwt_identity, JWTManager\n",
        "\n",
        "app = Flask(__name__, template_folder='../templates', static_folder='../static')\n",
        "\n",
        "# --- Configuration ---\n",
        "db_path = os.path.join(os.path.abspath(os.path.dirname(__file__)), '../finance.db')\n",
        "app.config['SQLALCHEMY_DATABASE_URI'] = f'sqlite:///{db_path}'\n",
        "app.config['SQLALCHEMY_TRACK_MODIFICATIONS'] = False\n",
        "app.config['JWT_SECRET_KEY'] = 'your-super-secret-key-change-it'\n",
        "app.config['UPLOAD_FOLDER'] = 'uploads'\n",
        "os.makedirs(app.config['UPLOAD_FOLDER'], exist_ok=True)\n",
        "\n",
        "# --- Extensions ---\n",
        "db.init_app(app)\n",
        "jwt = JWTManager(app)\n",
        "\n",
        "with app.app_context():\n",
        "    db.create_all()\n",
        "\n",
        "@app.route('/')\n",
        "def index():\n",
        "    return render_template('index.html')\n",
        "\n",
        "# === User Authentication ===\n",
        "@app.route('/register', methods=['POST'])\n",
        "def register():\n",
        "    data = request.get_json()\n",
        "    if not data or not data.get('username') or not data.get('password'):\n",
        "        return jsonify({\"msg\": \"Missing username or password\"}), 400\n",
        "    if User.query.filter_by(username=data['username']).first():\n",
        "        return jsonify({\"msg\": \"User already exists\"}), 400\n",
        "\n",
        "    user = User(username=data['username'])\n",
        "    user.set_password(data['password'])\n",
        "    db.session.add(user)\n",
        "    db.session.commit()\n",
        "    return jsonify({\"msg\": \"User created successfully\"}), 201\n",
        "\n",
        "@app.route('/login', methods=['POST'])\n",
        "def login():\n",
        "    data = request.get_json()\n",
        "    user = User.query.filter_by(username=data.get('username')).first()\n",
        "    if user and user.check_password(data.get('password')):\n",
        "        access_token = create_access_token(identity=str(user.id))\n",
        "        return jsonify(access_token=access_token)\n",
        "    return jsonify({\"msg\": \"Bad username or password\"}), 401\n",
        "\n",
        "# === Transactions ===\n",
        "@app.route('/transactions', methods=['POST'])\n",
        "@jwt_required()\n",
        "def add_transaction():\n",
        "    current_user_id = get_jwt_identity()\n",
        "    data = request.get_json()\n",
        "    required = ['description', 'amount', 'type', 'category']\n",
        "    if not all(k in data for k in required):\n",
        "        return jsonify({\"msg\": \"Missing fields\"}), 400\n",
        "\n",
        "    try:\n",
        "        new_transaction = Transaction(\n",
        "            description=data['description'], amount=float(data['amount']),\n",
        "            type=data['type'], category=data['category'],\n",
        "            date=datetime.fromisoformat(data['date']) if 'date' in data else datetime.utcnow(),\n",
        "            user_id=current_user_id\n",
        "        )\n",
        "        db.session.add(new_transaction)\n",
        "        db.session.commit()\n",
        "        return jsonify(new_transaction.to_dict()), 201\n",
        "    except Exception as e:\n",
        "        db.session.rollback()\n",
        "        return jsonify({\"msg\": \"Error adding transaction\", \"error\": str(e)}), 500\n",
        "\n",
        "@app.route('/transactions', methods=['GET'])\n",
        "@jwt_required()\n",
        "def get_transactions():\n",
        "    current_user_id = get_jwt_identity()\n",
        "    page = request.args.get('page', 1, type=int)\n",
        "    per_page = request.args.get('per_page', 10, type=int)\n",
        "    query = Transaction.query.filter_by(user_id=current_user_id)\n",
        "\n",
        "    if request.args.get('start_date'):\n",
        "        query = query.filter(Transaction.date >= datetime.fromisoformat(request.args.get('start_date')))\n",
        "    if request.args.get('end_date'):\n",
        "        query = query.filter(Transaction.date <= datetime.fromisoformat(request.args.get('end_date')))\n",
        "\n",
        "    paginated = query.order_by(Transaction.date.desc()).paginate(page=page, per_page=per_page, error_out=False)\n",
        "    return jsonify({\n",
        "        \"transactions\": [t.to_dict() for t in paginated.items],\n",
        "        \"total\": paginated.total, \"page\": paginated.page, \"pages\": paginated.pages\n",
        "    })\n",
        "\n",
        "# === File Processing ===\n",
        "@app.route('/extract-receipt', methods=['POST'])\n",
        "@jwt_required()\n",
        "def upload_receipt():\n",
        "    if 'file' not in request.files: return jsonify({\"msg\": \"No file part\"}), 400\n",
        "    file = request.files['file']\n",
        "    if file.filename == '': return jsonify({\"msg\": \"No selected file\"}), 400\n",
        "\n",
        "    filename = secure_filename(file.filename)\n",
        "    filepath = os.path.join(app.config['UPLOAD_FOLDER'], filename)\n",
        "    file.save(filepath)\n",
        "\n",
        "    try:\n",
        "        text = extract_text_from_file(filepath)\n",
        "        parsed_data = parse_receipt(text)\n",
        "        return jsonify({\"raw_text\": text, \"parsed_data\": parsed_data}), 200\n",
        "    except Exception as e:\n",
        "        return jsonify({\"msg\": \"Error processing file\", \"error\": str(e)}), 500\n",
        "    finally:\n",
        "        if os.path.exists(filepath): os.remove(filepath)\n",
        "\n",
        "@app.route('/extract-statement', methods=['POST'])\n",
        "@jwt_required()\n",
        "def upload_statement():\n",
        "    if 'file' not in request.files: return jsonify({\"msg\": \"No file part\"}), 400\n",
        "    file = request.files['file']\n",
        "    if not file.filename.lower().endswith('.pdf'): return jsonify({\"msg\": \"Please upload a PDF\"}), 400\n",
        "\n",
        "    filename = secure_filename(file.filename)\n",
        "    filepath = os.path.join(app.config['UPLOAD_FOLDER'], filename)\n",
        "    file.save(filepath)\n",
        "\n",
        "    try:\n",
        "        tables = extract_tables_from_pdf(filepath)\n",
        "        if \"error\" in tables: return jsonify(tables), 500\n",
        "        return jsonify({\"extracted_tables\": tables}), 200\n",
        "    except Exception as e:\n",
        "        return jsonify({\"msg\": \"Error processing PDF\", \"error\": str(e)}), 500\n",
        "    finally:\n",
        "        if os.path.exists(filepath): os.remove(filepath)"
      ]
    },
    {
      "cell_type": "markdown",
      "id": "2ef0863f",
      "metadata": {
        "id": "2ef0863f"
      },
      "source": [
        "### Creating HTML and Static Files"
      ]
    },
    {
      "cell_type": "code",
      "execution_count": null,
      "id": "81f74b15",
      "metadata": {
        "id": "81f74b15"
      },
      "outputs": [],
      "source": [
        "%%writefile templates/index.html\n",
        "<!DOCTYPE html>\n",
        "<html lang=\"en\">\n",
        "<head>\n",
        "    <meta charset=\"UTF-8\">\n",
        "    <title>Personal Finance API</title>\n",
        "    <link rel=\"stylesheet\" href=\"{{ url_for('static', filename='styles.css') }}\">\n",
        "</head>\n",
        "<body>\n",
        "    <h1>Personal Finance Assistant API</h1>\n",
        "    <p>The API server is running successfully. Use the cells in the Colab notebook to interact with the API endpoints.</p>\n",
        "</body>\n",
        "</html>"
      ]
    },
    {
      "cell_type": "code",
      "execution_count": null,
      "id": "d9d5b3ba",
      "metadata": {
        "id": "d9d5b3ba"
      },
      "outputs": [],
      "source": [
        "%%writefile static/styles.css\n",
        "body { font-family: -apple-system, BlinkMacSystemFont, \"Segoe UI\", Roboto, \"Helvetica Neue\", Arial, sans-serif; background-color: #f8f9fa; color: #212529; line-height: 1.6; padding: 20px; }\n",
        "h1 { color: #007bff; }"
      ]
    },
    {
      "cell_type": "markdown",
      "id": "56445296",
      "metadata": {
        "id": "56445296"
      },
      "source": [
        "### Creating Documentation File"
      ]
    },
    {
      "cell_type": "code",
      "execution_count": null,
      "id": "ce4350db",
      "metadata": {
        "id": "ce4350db"
      },
      "outputs": [],
      "source": [
        "%%writefile README.md\n",
        "# Personal Finance Assistant\n",
        "\n",
        "This is a full-stack application designed to help users track, manage, and understand their financial activities, built to run in a Google Colab environment.\n",
        "\n",
        "## How to Run\n",
        "\n",
        "Open the `personal_finance_assistant.ipynb` notebook in Google Colab and run all the cells sequentially.\n",
        "\n",
        "## Implemented Features\n",
        "\n",
        "### Core Requirements\n",
        "- **Create Income/Expense Entries**: `POST /transactions`\n",
        "- **List Entries in Time Range**: `GET /transactions`\n",
        "- **Show Graphs**: A dedicated cell in the notebook generates a pie chart for expenses.\n",
        "- **Extract from Receipt**: `POST /extract-receipt` for images and PDFs.\n",
        "\n",
        "### Bonus Features\n",
        "- **Support Tabular PDF Upload**: `POST /extract-statement`\n",
        "- **API Pagination**: Implemented on the `GET /transactions` endpoint.\n",
        "- **Multi-user Support**: Full user registration, login, and JWT-based authentication."
      ]
    },
    {
      "cell_type": "markdown",
      "id": "LnQqPDRbWNC6",
      "metadata": {
        "id": "LnQqPDRbWNC6"
      },
      "source": [
        "## Step 3: Create Sample Data for Testing\n",
        "\n",
        "To make testing the file upload features easy, this cell programmatically creates a sample receipt image and a sample statement PDF."
      ]
    },
    {
      "cell_type": "code",
      "execution_count": null,
      "id": "fNFESXaXWNC6",
      "metadata": {
        "id": "fNFESXaXWNC6"
      },
      "outputs": [],
      "source": [
        "from PIL import Image, ImageDraw, ImageFont\n",
        "from fpdf import FPDF\n",
        "\n",
        "# Create a sample receipt image\n",
        "try:\n",
        "    img = Image.new('RGB', (300, 200), color = (255, 255, 255))\n",
        "    d = ImageDraw.Draw(img)\n",
        "    # In Colab, a default font path is needed if a specific .ttf is not uploaded\n",
        "    try:\n",
        "        font = ImageFont.truetype(\"/usr/share/fonts/truetype/liberation/LiberationMono-Regular.ttf\", 15)\n",
        "    except IOError:\n",
        "        font = ImageFont.load_default()\n",
        "\n",
        "    d.text((10,10), \"CAFE-BOT\", fill=(0,0,0), font=font)\n",
        "    d.text((10,40), \"Coffee......₹4.50\", fill=(0,0,0), font=font)\n",
        "    d.text((10,60), \"Muffin......₹3.50\", fill=(0,0,0), font=font)\n",
        "    d.text((10,90), \"TOTAL.......₹8.00\", fill=(0,0,0), font=font)\n",
        "    img.save('test_data/sample_receipt.png')\n",
        "    print(\"Created test_data/sample_receipt.png\")\n",
        "except Exception as e:\n",
        "    print(f\"Error creating sample image: {e}\")\n",
        "    print(\"Continuing without sample image.\")\n",
        "\n",
        "# Create a sample statement PDF with a table\n",
        "pdf = FPDF()\n",
        "pdf.add_page()\n",
        "pdf.set_font(\"Helvetica\", size=12)\n",
        "pdf.cell(200, 10, txt=\"Bank Statement\", ln=True, align='C')\n",
        "pdf.ln(10)\n",
        "\n",
        "header = ['Date', 'Description', 'Amount']\n",
        "data = [\n",
        "    ['2025-09-01', 'Salary', '3000.00'],\n",
        "    ['2025-09-02', 'Groceries', '-75.50'],\n",
        "    ['2025-09-03', 'Gas Station', '-45.20'],\n",
        "]\n",
        "\n",
        "col_width = pdf.w / 3.5\n",
        "row_height = pdf.font_size * 1.5\n",
        "\n",
        "for h in header:\n",
        "    pdf.cell(col_width, row_height, h, border=1)\n",
        "pdf.ln(row_height)\n",
        "\n",
        "for row in data:\n",
        "    for item in row:\n",
        "        pdf.cell(col_width, row_height, item, border=1)\n",
        "    pdf.ln(row_height)\n",
        "\n",
        "pdf.output('test_data/sample_statement.pdf')\n",
        "print(\"Created test_data/sample_statement.pdf\")"
      ]
    },
    {
      "cell_type": "markdown",
      "id": "Z8gcuSaQWNC6",
      "metadata": {
        "id": "Z8gcuSaQWNC6"
      },
      "source": [
        "## Step 4: Run the Backend Server\n",
        "\n",
        "This cell will start the Flask web server as a background process. We then use `pyngrok` to create a secure public URL to our local server. This allows us to send API requests to it from within this notebook.\n",
        "\n",
        "**Please wait for this cell to output a public URL (e.g., `https://*.ngrok.io`) before proceeding.**"
      ]
    },
    {
      "cell_type": "code",
      "execution_count": null,
      "id": "pQKJ32ZUWNC6",
      "metadata": {
        "id": "pQKJ32ZUWNC6"
      },
      "outputs": [],
      "source": [
        "import subprocess\n",
        "import time\n",
        "from pyngrok import ngrok\n",
        "import os\n",
        "import requests\n",
        "from google.colab import userdata\n",
        "\n",
        "# --- Install Gunicorn and Start the Server ---\n",
        "print(\"Installing Gunicorn...\")\n",
        "!pip install -q gunicorn\n",
        "\n",
        "print(\"Starting Flask server in the background...\")\n",
        "proc = subprocess.Popen([\"gunicorn\", \"-w\", \"1\", \"-b\", \"0.0.0.0:5000\", \"backend.app:app\"])\n",
        "\n",
        "\n",
        "# --- Wait for the Server to be Ready ---\n",
        "print(\"Waiting for the server to become available...\")\n",
        "server_ready = False\n",
        "for _ in range(10):  # Try for up to 20 seconds\n",
        "    try:\n",
        "        # Attempt to connect to the local server port\n",
        "        requests.get(\"http://localhost:5000\", timeout=1)\n",
        "        print(\"✅ Server is up and running!\")\n",
        "        server_ready = True\n",
        "        break\n",
        "    except requests.exceptions.ConnectionError:\n",
        "        time.sleep(2) # Wait 2 seconds before retrying\n",
        "\n",
        "if not server_ready:\n",
        "    raise RuntimeError(\"Server did not become available. Killing process.\")\n",
        "\n",
        "\n",
        "# --- Set up ngrok ---\n",
        "print(\"Starting ngrok tunnel...\")\n",
        "try:\n",
        "    # Securely get the authtoken from Colab's Secret Manager\n",
        "    NGROK_AUTH_TOKEN = userdata.get('NGROK_AUTH_TOKEN')\n",
        "    if NGROK_AUTH_TOKEN is None:\n",
        "        raise ValueError(\"Ngrok authtoken not found in Colab secrets.\")\n",
        "\n",
        "    ngrok.set_auth_token(NGROK_AUTH_TOKEN)\n",
        "\n",
        "    public_url = ngrok.connect(5000)\n",
        "    BASE_URL = public_url.public_url\n",
        "    print(f\"🔗 Public URL: {BASE_URL}\")\n",
        "\n",
        "except Exception as e:\n",
        "    print(f\"❌ Ngrok error: {e}\")\n",
        "    print(\"Killing background server due to ngrok failure.\")\n",
        "    proc.kill()\n",
        "    BASE_URL = None"
      ]
    },
    {
      "cell_type": "markdown",
      "id": "f2_GAnf-WNC7",
      "metadata": {
        "id": "f2_GAnf-WNC7"
      },
      "source": [
        "## Step 5: API Client and Testing\n",
        "\n",
        "Now that the server is running, we can use the `requests` library to interact with our API endpoints."
      ]
    },
    {
      "cell_type": "code",
      "execution_count": null,
      "id": "3BTnMY3wWNC7",
      "metadata": {
        "id": "3BTnMY3wWNC7"
      },
      "outputs": [],
      "source": [
        "import requests\n",
        "import json\n",
        "\n",
        "# Helper function to print JSON nicely\n",
        "def print_json(data):\n",
        "    print(json.dumps(data, indent=2))\n",
        "\n",
        "headers = {'Content-Type': 'application/json'}\n",
        "auth_token = None\n",
        "\n",
        "# Check if the server is running\n",
        "if BASE_URL:\n",
        "    try:\n",
        "        response = requests.get(BASE_URL)\n",
        "        print(f\"Server status: {response.status_code}\")\n",
        "        if response.status_code != 200:\n",
        "             print(\"Server might not be ready. Please check the output of the previous cell.\")\n",
        "    except requests.exceptions.RequestException as e:\n",
        "        print(f\"Could not connect to server: {e}\")\n",
        "else:\n",
        "    print(\"Server URL not available. Please re-run the previous cell.\")"
      ]
    },
    {
      "cell_type": "markdown",
      "id": "cPYiKa8RWNC7",
      "metadata": {
        "id": "cPYiKa8RWNC7"
      },
      "source": [
        "### 5.1 - User Registration and Login\n",
        "\n"
      ]
    },
    {
      "cell_type": "code",
      "execution_count": null,
      "id": "quMtrvItWNC7",
      "metadata": {
        "id": "quMtrvItWNC7"
      },
      "outputs": [],
      "source": [
        "user_credentials = {\n",
        "    \"username\": \"testuser\",\n",
        "    \"password\": \"password123\"\n",
        "}\n",
        "\n",
        "# Register\n",
        "print(\"--- Registering User ---\")\n",
        "register_url = f\"{BASE_URL}/register\"\n",
        "response = requests.post(register_url, json=user_credentials, headers=headers)\n",
        "print(f\"Status: {response.status_code}\")\n",
        "print_json(response.json())\n",
        "\n",
        "# Login\n",
        "print(\"\\n--- Logging In ---\")\n",
        "login_url = f\"{BASE_URL}/login\"\n",
        "response = requests.post(login_url, json=user_credentials, headers=headers)\n",
        "print(f\"Status: {response.status_code}\")\n",
        "if response.status_code == 200:\n",
        "    auth_token = response.json().get('access_token')\n",
        "    print(\"Login successful. Auth token stored.\")\n",
        "else:\n",
        "    print_json(response.json())"
      ]
    },
    {
      "cell_type": "markdown",
      "id": "J0Q7IQBOWNC7",
      "metadata": {
        "id": "J0Q7IQBOWNC7"
      },
      "source": [
        "### 5.2 - Add Income/Expense Entries"
      ]
    },
    {
      "cell_type": "code",
      "execution_count": null,
      "id": "lgbiaYKVWNC7",
      "metadata": {
        "id": "lgbiaYKVWNC7"
      },
      "outputs": [],
      "source": [
        "if auth_token:\n",
        "    auth_headers = headers.copy()\n",
        "    auth_headers['Authorization'] = f'Bearer {auth_token}'\n",
        "\n",
        "    transactions_url = f\"{BASE_URL}/transactions\"\n",
        "\n",
        "    # Add Income\n",
        "    income = {\n",
        "        \"description\": \"Monthly Salary\", \"amount\": 45000, \"type\": \"income\", \"category\": \"Salary\", \"date\": \"2025-09-01T10:00:00\"\n",
        "    }\n",
        "\n",
        "    print(\"--- Adding Income ---\")\n",
        "    response = requests.post(transactions_url, json=income, headers=auth_headers)\n",
        "    print_json(response.json())\n",
        "\n",
        "    # Add Expenses\n",
        "    expenses = [\n",
        "        {\"description\": \"PG/Apartment\", \"amount\": 14000, \"type\": \"expense\", \"category\": \"Rent\", \"date\": \"2025-09-02T11:00:00\"},\n",
        "        {\"description\": \"SIP 1\", \"amount\": 5000, \"type\": \"expense\", \"category\": \"Mutual Fund\", \"date\": \"2025-09-04T11:00:00\"},\n",
        "        {\"description\": \"Groceries\", \"amount\": 650.75, \"type\": \"expense\", \"category\": \"Food\", \"date\": \"2025-09-05T18:30:00\"},\n",
        "        {\"description\": \"Restaurant\", \"amount\": 580.45, \"type\": \"expense\", \"category\": \"Food\", \"date\": \"2025-09-12T18:30:00\"},\n",
        "        {\"description\": \"Movie Tickets\", \"amount\": 175.00, \"type\": \"expense\", \"category\": \"Entertainment\", \"date\": \"2025-09-12T20:00:00\"},\n",
        "        {\"description\": \"Notebooks\", \"amount\": 450.50, \"type\": \"expense\", \"category\": \"Education\", \"date\": \"2025-09-14T15:00:00\"},\n",
        "        {\"description\": \"SIP 2\", \"amount\": 3000, \"type\": \"expense\", \"category\": \"Mutual Fund\", \"date\": \"2025-09-18T11:00:00\"},\n",
        "        {\"description\": \"Music Streaming Subscription\", \"amount\": 150.00, \"type\": \"expense\", \"category\": \"Entertainment\", \"date\": \"2025-09-18T08:00:00\"}\n",
        "    ]\n",
        "    print(\"\\n--- Adding Expenses ---\")\n",
        "    for expense_data in expenses:\n",
        "        response = requests.post(transactions_url, json=expense_data, headers=auth_headers)\n",
        "        print_json(response.json())\n",
        "else:\n",
        "    print(\"Cannot proceed: Not authenticated.\")"
      ]
    },
    {
      "cell_type": "markdown",
      "id": "udOXO_ZiWNC8",
      "metadata": {
        "id": "udOXO_ZiWNC8"
      },
      "source": [
        "### 5.3 - List Transactions with Filtering and Pagination"
      ]
    },
    {
      "cell_type": "code",
      "execution_count": null,
      "id": "Fh6YjWIkWNC8",
      "metadata": {
        "id": "Fh6YjWIkWNC8"
      },
      "outputs": [],
      "source": [
        "if auth_token:\n",
        "    transactions_url = f\"{BASE_URL}/transactions\"\n",
        "\n",
        "    # List all transactions (paginated)\n",
        "    print(\"--- Listing All Transactions (Page 1, 3 per page) ---\")\n",
        "    params = {'page': 1, 'per_page': 3}\n",
        "    response = requests.get(transactions_url, headers=auth_headers, params=params)\n",
        "    print_json(response.json())\n",
        "\n",
        "    # Filter by date range\n",
        "    print(\"\\n--- Filtering Transactions from 2025-09-01 to 2025-09-08 ---\")\n",
        "    params = {'start_date': '2025-09-01', 'end_date': '2025-09-24'}\n",
        "    response = requests.get(transactions_url, headers=auth_headers, params=params)\n",
        "    print_json(response.json())\n",
        "else:\n",
        "    print(\"Cannot proceed: Not authenticated.\")"
      ]
    },
    {
      "cell_type": "markdown",
      "id": "UD2YAKo0WNC8",
      "metadata": {
        "id": "UD2YAKo0WNC8"
      },
      "source": [
        "### 5.4 - Extract Expenses from Receipt"
      ]
    },
    {
      "cell_type": "code",
      "execution_count": null,
      "id": "WuCe-ANcWNC8",
      "metadata": {
        "id": "WuCe-ANcWNC8"
      },
      "outputs": [],
      "source": [
        "if auth_token:\n",
        "    receipt_url = f\"{BASE_URL}/extract-receipt\"\n",
        "    receipt_path = 'test_data/sample_receipt.png'\n",
        "\n",
        "    print(f\"--- Uploading {receipt_path} for OCR ---\")\n",
        "    with open(receipt_path, 'rb') as f:\n",
        "        files = {'file': (receipt_path, f, 'image/png')}\n",
        "        # For file uploads, we don't set Content-Type, requests does it.\n",
        "        upload_headers = {'Authorization': f'Bearer {auth_token}'}\n",
        "        response = requests.post(receipt_url, files=files, headers=upload_headers)\n",
        "        print_json(response.json())\n",
        "else:\n",
        "    print(\"Cannot proceed: Not authenticated.\")"
      ]
    },
    {
      "cell_type": "markdown",
      "id": "3Emxq3amWNC8",
      "metadata": {
        "id": "3Emxq3amWNC8"
      },
      "source": [
        "### 5.5 - Extract from Tabular PDF"
      ]
    },
    {
      "cell_type": "code",
      "execution_count": null,
      "id": "rK6amxHNWNC8",
      "metadata": {
        "id": "rK6amxHNWNC8"
      },
      "outputs": [],
      "source": [
        "if auth_token:\n",
        "    statement_url = f\"{BASE_URL}/extract-statement\"\n",
        "    statement_path = 'test_data/sample_statement.pdf'\n",
        "\n",
        "    print(f\"--- Uploading {statement_path} for Table Extraction ---\")\n",
        "    with open(statement_path, 'rb') as f:\n",
        "        files = {'file': (statement_path, f, 'application/pdf')}\n",
        "        upload_headers = {'Authorization': f'Bearer {auth_token}'}\n",
        "        response = requests.post(statement_url, files=files, headers=upload_headers)\n",
        "        print_json(response.json())\n",
        "else:\n",
        "    print(\"Cannot proceed: Not authenticated.\")"
      ]
    },
    {
      "cell_type": "markdown",
      "id": "AVm3FitCWNC8",
      "metadata": {
        "id": "AVm3FitCWNC8"
      },
      "source": [
        "### 5.6 - Show Graphs"
      ]
    },
    {
      "cell_type": "code",
      "execution_count": null,
      "id": "iWQCReygWNC8",
      "metadata": {
        "id": "iWQCReygWNC8"
      },
      "outputs": [],
      "source": [
        "import matplotlib.pyplot as plt\n",
        "import pandas as pd\n",
        "\n",
        "if auth_token:\n",
        "    # Fetch all transactions (by setting a high per_page value)\n",
        "    response = requests.get(f\"{BASE_URL}/transactions?per_page=100\", headers=auth_headers)\n",
        "    if response.status_code == 200:\n",
        "        all_transactions = response.json().get('transactions', [])\n",
        "\n",
        "        # Filter for expenses and create a DataFrame\n",
        "        expenses_data = [t for t in all_transactions if t['type'] == 'expense']\n",
        "        if expenses_data:\n",
        "            df = pd.DataFrame(expenses_data)\n",
        "\n",
        "            # Group by category and sum amounts\n",
        "            expense_by_category = df.groupby('category')['amount'].sum()\n",
        "\n",
        "            # Plotting\n",
        "            plt.figure(figsize=(10, 7))\n",
        "            expense_by_category.plot(kind='pie', autopct='%1.1f%%', startangle=140)\n",
        "            plt.title('Expenses by Category')\n",
        "            plt.ylabel('') # Hide the y-label\n",
        "            plt.show()\n",
        "        else:\n",
        "            print(\"No expense data found to generate a graph.\")\n",
        "    else:\n",
        "        print(\"Failed to fetch transactions for graphing.\")\n",
        "else:\n",
        "    print(\"Cannot proceed: Not authenticated.\")"
      ]
    },
    {
      "cell_type": "markdown",
      "id": "mBciiOEj3dPg",
      "metadata": {
        "id": "mBciiOEj3dPg"
      },
      "source": [
        "### 5.7 - Bar Graph of Daily Expenses"
      ]
    },
    {
      "cell_type": "code",
      "execution_count": null,
      "id": "K6xeuH1W3eB_",
      "metadata": {
        "id": "K6xeuH1W3eB_"
      },
      "outputs": [],
      "source": [
        "import matplotlib.pyplot as plt\n",
        "import pandas as pd\n",
        "import matplotlib.dates as mdates\n",
        "\n",
        "if auth_token:\n",
        "    # Fetch all transactions by setting a high per_page value\n",
        "    response = requests.get(f\"{BASE_URL}/transactions?per_page=1000\", headers=auth_headers)\n",
        "    if response.status_code == 200:\n",
        "        all_transactions = response.json().get('transactions', [])\n",
        "\n",
        "        # Filter for expenses and create a DataFrame\n",
        "        expenses_data = [t for t in all_transactions if t['type'] == 'expense']\n",
        "\n",
        "        if expenses_data:\n",
        "            df = pd.DataFrame(expenses_data)\n",
        "\n",
        "            # Convert date strings to datetime objects\n",
        "            df['date'] = pd.to_datetime(df['date'])\n",
        "\n",
        "            # Extract just the date part (ignoring time) for grouping\n",
        "            df['day'] = df['date'].dt.date\n",
        "\n",
        "            # Group by day and sum the amounts\n",
        "            daily_expenses = df.groupby('day')['amount'].sum().sort_index()\n",
        "\n",
        "            # Plotting the bar graph\n",
        "            plt.figure(figsize=(12, 6))\n",
        "            daily_expenses.plot(kind='bar', color='skyblue', edgecolor='black')\n",
        "\n",
        "            plt.title('Total Expenses per Day', fontsize=16)\n",
        "            plt.xlabel('Date')\n",
        "            plt.ylabel('Total Expense Amount (₹)')\n",
        "            plt.xticks(rotation=45, ha='right') # Rotate date labels for readability\n",
        "            plt.grid(axis='y', linestyle='--', alpha=0.7)\n",
        "            plt.tight_layout() # Adjust layout to prevent labels from being cut off\n",
        "            plt.show()\n",
        "\n",
        "        else:\n",
        "            print(\"No expense data found to generate a graph.\")\n",
        "    else:\n",
        "        print(f\"Failed to fetch transactions for graphing. Status: {response.status_code}\")\n",
        "else:\n",
        "    print(\"Cannot proceed: Not authenticated.\")"
      ]
    },
    {
      "cell_type": "markdown",
      "id": "7n4pHaRu5ZDr",
      "metadata": {
        "id": "7n4pHaRu5ZDr"
      },
      "source": [
        "### 5.8 - Income vs. Expense Comparison"
      ]
    },
    {
      "cell_type": "code",
      "execution_count": null,
      "id": "49L8PvoP5aDV",
      "metadata": {
        "id": "49L8PvoP5aDV"
      },
      "outputs": [],
      "source": [
        "import matplotlib.pyplot as plt\n",
        "import pandas as pd\n",
        "import numpy as np\n",
        "\n",
        "if auth_token:\n",
        "    # Fetch all transactions by setting a high per_page value\n",
        "    response = requests.get(f\"{BASE_URL}/transactions?per_page=1000\", headers=auth_headers)\n",
        "\n",
        "    if response.status_code == 200:\n",
        "        all_transactions = response.json().get('transactions', [])\n",
        "\n",
        "        if all_transactions:\n",
        "            df = pd.DataFrame(all_transactions)\n",
        "\n",
        "            # Calculate total income\n",
        "            total_income = df[df['type'] == 'income']['amount'].sum()\n",
        "\n",
        "            # Calculate total expenses\n",
        "            total_expenses = df[df['type'] == 'expense']['amount'].sum()\n",
        "\n",
        "            # Calculate net savings\n",
        "            net_savings = total_income - total_expenses\n",
        "\n",
        "            # --- Print a Summary ---\n",
        "            print(\"--- Financial Summary ---\")\n",
        "            print(f\"Total Income:    ₹{total_income:,.2f}\")\n",
        "            print(f\"Total Expenses: -₹{total_expenses:,.2f}\")\n",
        "            print(\"-------------------------\")\n",
        "            print(f\"Net Savings:     ₹{net_savings:,.2f}\\n\")\n",
        "\n",
        "            # --- Plotting the Bar Chart ---\n",
        "            labels = ['Income', 'Expenses']\n",
        "            totals = [total_income, total_expenses]\n",
        "            colors = ['green', 'red']\n",
        "\n",
        "            plt.figure(figsize=(8, 6))\n",
        "            plt.bar(labels, totals, color=colors)\n",
        "\n",
        "            plt.title('Total Income vs. Total Expenses', fontsize=16)\n",
        "            plt.ylabel('Amount (₹)')\n",
        "            plt.grid(axis='y', linestyle='--', alpha=0.7)\n",
        "\n",
        "            # Add the total amount on top of each bar\n",
        "            for i, total in enumerate(totals):\n",
        "                plt.text(i, total + (max(totals) * 0.02), f'₹{total:,.2f}', ha='center', fontsize=12)\n",
        "\n",
        "            plt.show()\n",
        "\n",
        "        else:\n",
        "            print(\"No transaction data found to generate a summary.\")\n",
        "    else:\n",
        "        print(f\"Failed to fetch transactions for summary. Status: {response.status_code}\")\n",
        "else:\n",
        "    print(\"Cannot proceed: Not authenticated.\")"
      ]
    },
    {
      "cell_type": "markdown",
      "id": "FXYaCSwdWNC8",
      "metadata": {
        "id": "FXYaCSwdWNC8"
      },
      "source": [
        "## Step 6: Clean Up\n",
        "\n",
        "This final cell will shut down the background server and the ngrok tunnel."
      ]
    },
    {
      "cell_type": "code",
      "execution_count": null,
      "id": "Zog3MdZpWNC9",
      "metadata": {
        "id": "Zog3MdZpWNC9"
      },
      "outputs": [],
      "source": [
        "print(\"Shutting down server and ngrok tunnel...\")\n",
        "proc.kill() # Kill the gunicorn process\n",
        "ngrok.kill() # Kill the ngrok tunnel\n",
        "print(\"Cleanup complete.\")"
      ]
    }
  ],
  "metadata": {
    "colab": {
      "provenance": []
    },
    "kernelspec": {
      "display_name": "Python 3",
      "name": "python3"
    },
    "language_info": {
      "name": "python"
    }
  },
  "nbformat": 4,
  "nbformat_minor": 5
}